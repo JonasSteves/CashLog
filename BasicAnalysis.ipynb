{
  "nbformat": 4,
  "nbformat_minor": 0,
  "metadata": {
    "kernelspec": {
      "display_name": "Python 3",
      "language": "python",
      "name": "python3"
    },
    "language_info": {
      "codemirror_mode": {
        "name": "ipython",
        "version": 3
      },
      "file_extension": ".py",
      "mimetype": "text/x-python",
      "name": "python",
      "nbconvert_exporter": "python",
      "pygments_lexer": "ipython3",
      "version": "3.7.9"
    },
    "colab": {
      "name": "BasicAnalysis.ipynb",
      "provenance": [],
      "toc_visible": true
    }
  },
  "cells": [
    {
      "cell_type": "code",
      "metadata": {
        "id": "aZXau8WYmVFE",
        "outputId": "644d3de3-b129-4bb5-a0d1-8384dda8acb0",
        "colab": {
          "base_uri": "https://localhost:8080/"
        }
      },
      "source": [
        "# Install required libraries and setup the notebook\n",
        "!pip install pulp\n",
        "\n",
        "import requests\n",
        "url = 'https://raw.githubusercontent.com/NikoStein/CashLog/master/basicModel.py'\n",
        "r = requests.get(url, allow_redirects=True)\n",
        "open('basicModel.py', 'wb').write(r.content)"
      ],
      "execution_count": 1,
      "outputs": [
        {
          "output_type": "stream",
          "text": [
            "Collecting pulp\n",
            "\u001b[?25l  Downloading https://files.pythonhosted.org/packages/89/0c/6d80f5f81a92d1733cc5ca180491b8a3cd5839e335627a0046c81b7d3d3d/PuLP-2.3.1-py3-none-any.whl (40.6MB)\n",
            "\u001b[K     |████████████████████████████████| 40.6MB 109kB/s \n",
            "\u001b[?25hCollecting amply>=0.1.2\n",
            "  Downloading https://files.pythonhosted.org/packages/f3/c5/dfa09dd2595a2ab2ab4e6fa7bebef9565812722e1980d04b0edce5032066/amply-0.1.4-py3-none-any.whl\n",
            "Requirement already satisfied: docutils>=0.3 in /usr/local/lib/python3.6/dist-packages (from amply>=0.1.2->pulp) (0.16)\n",
            "Requirement already satisfied: pyparsing in /usr/local/lib/python3.6/dist-packages (from amply>=0.1.2->pulp) (2.4.7)\n",
            "Installing collected packages: amply, pulp\n",
            "Successfully installed amply-0.1.4 pulp-2.3.1\n"
          ],
          "name": "stdout"
        },
        {
          "output_type": "execute_result",
          "data": {
            "text/plain": [
              "2753"
            ]
          },
          "metadata": {
            "tags": []
          },
          "execution_count": 1
        }
      ]
    },
    {
      "cell_type": "markdown",
      "metadata": {
        "id": "c0L1ueIfmR3q"
      },
      "source": [
        "# CashLog Basic Analysis\n",
        "\n",
        "We will use this notebook to implement a basic version of CashLog's decision problem by performing the following steps:\n",
        "1. Define and load relevent model parameters\n",
        "2. Define and initialize the decision variables\n",
        "3. Define and implement the objective function\n",
        "3. Define and implement the relevant constraints\n",
        "4. Solve the problem and anlyse the results\n",
        "5. Perform sensitivity analysis"
      ]
    },
    {
      "cell_type": "markdown",
      "metadata": {
        "id": "U1ror2MYmR3r"
      },
      "source": [
        "### Load the required libraries"
      ]
    },
    {
      "cell_type": "code",
      "metadata": {
        "id": "jViiaxAUmR3r"
      },
      "source": [
        "import pandas as pd\n",
        "import seaborn as sns\n",
        "import matplotlib.pyplot as plt\n",
        "from matplotlib.ticker import FuncFormatter\n",
        "import folium\n",
        "from tqdm import tqdm\n",
        "from pulp import *"
      ],
      "execution_count": 2,
      "outputs": []
    },
    {
      "cell_type": "markdown",
      "metadata": {
        "id": "4-JGQD46mR3s"
      },
      "source": [
        "### The decision problem can be modeled in the sense of a MIP"
      ]
    },
    {
      "cell_type": "code",
      "metadata": {
        "id": "oSodHj_PmR3s"
      },
      "source": [
        "prob = LpProblem('CashLog_BasicAnalysis', LpMinimize)"
      ],
      "execution_count": 3,
      "outputs": []
    },
    {
      "cell_type": "markdown",
      "metadata": {
        "id": "xED9DchxmR3s"
      },
      "source": [
        "### Define and load model parameters\n",
        "\n",
        "$W:$ Set of warehouses<br>\n",
        "$R:$ Set of customer regions<br>\n",
        "$S:$ Set of links between warehouses and regions<br>\n",
        "\n",
        "$f_i:$ Fixed costs of warehouse $i$<br>\n",
        "$c_{ij}:$ Costs if region $j$ is served by warehouse $i$<br>"
      ]
    },
    {
      "cell_type": "code",
      "metadata": {
        "id": "YH6gQUDzmR3s"
      },
      "source": [
        "warehouses = pd.read_csv('https://raw.githubusercontent.com/NikoStein/CashLog/master/data/warehouses.csv', index_col='warehouseID')\n",
        "W = warehouses.index.values\n",
        "\n",
        "regions = pd.read_csv('https://raw.githubusercontent.com/NikoStein/CashLog/master/data/regions.csv', index_col='regionID')\n",
        "R = regions.index.values\n",
        "\n",
        "shifts = pd.read_csv('https://raw.githubusercontent.com/NikoStein/CashLog/master/data/shifts.csv', index_col=['warehouseID', 'regionID'])\n",
        "S = shifts.index.values"
      ],
      "execution_count": 4,
      "outputs": []
    },
    {
      "cell_type": "markdown",
      "metadata": {
        "id": "duw59_fFmR3s"
      },
      "source": [
        "### Define and initialize the decision variables\n",
        "\n",
        "$x_{ij}:$ Binary variable indicating if region $j$ is served by warehouse $i$<br> \n",
        "$y_{i}:$ Binary variable indicating if warehouse $i$ is opened<br>"
      ]
    },
    {
      "cell_type": "code",
      "metadata": {
        "id": "mJr0x2iAmR3s"
      },
      "source": [
        "x = LpVariable.dicts(name='x', indexs=S, cat=LpBinary)\n",
        "y = LpVariable.dicts(name='y', indexs=W, cat=LpBinary)"
      ],
      "execution_count": 5,
      "outputs": []
    },
    {
      "cell_type": "markdown",
      "metadata": {
        "id": "P0ovludAmR3s"
      },
      "source": [
        "### Define and implement the objective function\n",
        "\n",
        "We want to minimize the total network costs (fixed costs + variable costs):\n",
        "\n",
        "$$\\min \\sum_{i\\in W}\\sum_{j\\in R} x_{ij} c_{ij} + \\sum_{i\\in W} f_i y_i$$"
      ]
    },
    {
      "cell_type": "code",
      "metadata": {
        "id": "PgkPVc6CmR3s"
      },
      "source": [
        "fixedCosts = lpSum([y[i] * warehouses.loc[i].fixedCosts for i in W])\n",
        "variableCosts = lpSum([x[i,j] * shifts.loc[i,j].shiftsRequired for i,j in S]) \n",
        "\n",
        "prob += fixedCosts + variableCosts"
      ],
      "execution_count": 6,
      "outputs": []
    },
    {
      "cell_type": "markdown",
      "metadata": {
        "id": "N1vInkLUmR3s"
      },
      "source": [
        "### Define and implement the relevant constraints\n",
        "\n",
        "Regions can only be served by open warehouses:<br>\n",
        "$$x_{ij} <= y_{i} \\quad \\forall i\\in W, j\\in R$$\n",
        "\n",
        "Each region has to be served by exactly one warehouse:<br>\n",
        "$$\\sum_{i\\in W} x_{ij} = 1 \\quad \\forall j\\in R$$"
      ]
    },
    {
      "cell_type": "code",
      "metadata": {
        "id": "9py3VUEGmR3s"
      },
      "source": [
        "for j in R:\n",
        "    prob += lpSum([x[i,j] for i in W]) == 1\n",
        "\n",
        "for i in W:\n",
        "    for j in R:\n",
        "        prob += x[i,j] <= y[i]"
      ],
      "execution_count": 7,
      "outputs": []
    },
    {
      "cell_type": "markdown",
      "metadata": {
        "id": "WpCEHjdTmR3s"
      },
      "source": [
        "### Solve the problem and analyze the results"
      ]
    },
    {
      "cell_type": "code",
      "metadata": {
        "id": "rUU3nt8QmR3s"
      },
      "source": [
        "status = prob.solve()"
      ],
      "execution_count": 8,
      "outputs": []
    },
    {
      "cell_type": "code",
      "metadata": {
        "id": "V78cpNJUmR3s",
        "outputId": "56b0d29c-3d3d-4dab-b248-7e20c8b10a81",
        "colab": {
          "base_uri": "https://localhost:8080/"
        }
      },
      "source": [
        "fixedCosts = sum([y[i].varValue * warehouses.loc[i].fixedCosts for i in W])\n",
        "variableCosts = sum([x[i,j].varValue * shifts.loc[i,j].shiftsRequired for i,j in S])\n",
        "print('Minimal costs are {:0,.0f} Euro'.format(prob.objective.value()))\n",
        "print('Variable Costs: {:0,.0f}€\\nFixed costs: {:0,.0f}€'.format(variableCosts,\n",
        "                                                                 fixedCosts))\n",
        "print('To minimize costs the following warehouses should be closed:')\n",
        "for i in W:\n",
        "    if y[i].varValue <= 0.1:\n",
        "        print('   -{}'.format(warehouses.loc[i].city))"
      ],
      "execution_count": 9,
      "outputs": [
        {
          "output_type": "stream",
          "text": [
            "Minimal costs are 98,631,921 Euro\n",
            "Variable Costs: 66,267,921€\n",
            "Fixed costs: 32,364,000€\n",
            "To minimize costs the following warehouses should be closed:\n",
            "   -Albacete\n",
            "   -Barcelona\n",
            "   -Ciudad real\n",
            "   -La coruña\n",
            "   -Granada\n",
            "   -San sebastian\n",
            "   -Lerida\n",
            "   -La rioja\n",
            "   -Madrid\n",
            "   -Navarra\n",
            "   -Oviedo\n",
            "   -Palencia\n",
            "   -Pontevedra\n",
            "   -Salamanca\n",
            "   -Santander\n",
            "   -Segovia\n",
            "   -Sevilla\n",
            "   -Soria\n",
            "   -Toledo\n",
            "   -Valencia\n",
            "   -Valladolid\n",
            "   -Bilbao\n",
            "   -Zamora\n",
            "   -Zaragoza\n"
          ],
          "name": "stdout"
        }
      ]
    },
    {
      "cell_type": "markdown",
      "metadata": {
        "id": "rkCdIwzymR3s"
      },
      "source": [
        "### Perform sensitivity analysis\n",
        "\n",
        "To perform sensitivity analysis and get a deeper understanding of the optimal decisions we solve multiple instances of the problem. In order to have a clean notebook we outsourced the model and import it for the analysis.\n",
        "\n",
        "We can instantiate an instance of the model via the ```CashLogWLP``` class and specify the costs per shift."
      ]
    },
    {
      "cell_type": "code",
      "metadata": {
        "id": "_L4JspLomR3s"
      },
      "source": [
        " from basicModel import CashLogWLP"
      ],
      "execution_count": 10,
      "outputs": []
    },
    {
      "cell_type": "code",
      "metadata": {
        "id": "fxLciYPwmR3s",
        "outputId": "87220999-256a-4d18-b6a5-c15abeb59a50",
        "colab": {
          "base_uri": "https://localhost:8080/",
          "height": 476
        }
      },
      "source": [
        "wlp = CashLogWLP()\n",
        "wlp.solve(n_warehouses=-1)\n",
        "print('Minimal costs are {:0,.0f} Euro'.format(wlp.totalCosts))\n",
        "print('Variable Costs: {:0,.0f}€\\nFixed costs: {:0,.0f}€'.format(wlp.variableCosts,\n",
        "                                                                 wlp.fixedCosts))"
      ],
      "execution_count": 11,
      "outputs": [
        {
          "output_type": "error",
          "ename": "FileNotFoundError",
          "evalue": "ignored",
          "traceback": [
            "\u001b[0;31m---------------------------------------------------------------------------\u001b[0m",
            "\u001b[0;31mFileNotFoundError\u001b[0m                         Traceback (most recent call last)",
            "\u001b[0;32m<ipython-input-11-dad76bf65b87>\u001b[0m in \u001b[0;36m<module>\u001b[0;34m()\u001b[0m\n\u001b[0;32m----> 1\u001b[0;31m \u001b[0mwlp\u001b[0m \u001b[0;34m=\u001b[0m \u001b[0mCashLogWLP\u001b[0m\u001b[0;34m(\u001b[0m\u001b[0;34m)\u001b[0m\u001b[0;34m\u001b[0m\u001b[0;34m\u001b[0m\u001b[0m\n\u001b[0m\u001b[1;32m      2\u001b[0m \u001b[0mwlp\u001b[0m\u001b[0;34m.\u001b[0m\u001b[0msolve\u001b[0m\u001b[0;34m(\u001b[0m\u001b[0mn_warehouses\u001b[0m\u001b[0;34m=\u001b[0m\u001b[0;34m-\u001b[0m\u001b[0;36m1\u001b[0m\u001b[0;34m)\u001b[0m\u001b[0;34m\u001b[0m\u001b[0;34m\u001b[0m\u001b[0m\n\u001b[1;32m      3\u001b[0m \u001b[0mprint\u001b[0m\u001b[0;34m(\u001b[0m\u001b[0;34m'Minimal costs are {:0,.0f} Euro'\u001b[0m\u001b[0;34m.\u001b[0m\u001b[0mformat\u001b[0m\u001b[0;34m(\u001b[0m\u001b[0mwlp\u001b[0m\u001b[0;34m.\u001b[0m\u001b[0mtotalCosts\u001b[0m\u001b[0;34m)\u001b[0m\u001b[0;34m)\u001b[0m\u001b[0;34m\u001b[0m\u001b[0;34m\u001b[0m\u001b[0m\n\u001b[1;32m      4\u001b[0m print('Variable Costs: {:0,.0f}€\\nFixed costs: {:0,.0f}€'.format(wlp.variableCosts,\n\u001b[1;32m      5\u001b[0m                                                                  wlp.fixedCosts))\n",
            "\u001b[0;32m/content/basicModel.py\u001b[0m in \u001b[0;36m__init__\u001b[0;34m(self)\u001b[0m\n\u001b[1;32m      7\u001b[0m     \u001b[0;31m# MIP for the CashLog warehouse location problem\u001b[0m\u001b[0;34m\u001b[0m\u001b[0;34m\u001b[0m\u001b[0;34m\u001b[0m\u001b[0m\n\u001b[1;32m      8\u001b[0m     \u001b[0;32mdef\u001b[0m \u001b[0m__init__\u001b[0m\u001b[0;34m(\u001b[0m\u001b[0mself\u001b[0m\u001b[0;34m)\u001b[0m\u001b[0;34m:\u001b[0m\u001b[0;34m\u001b[0m\u001b[0;34m\u001b[0m\u001b[0m\n\u001b[0;32m----> 9\u001b[0;31m         \u001b[0mself\u001b[0m\u001b[0;34m.\u001b[0m\u001b[0mwarehouses\u001b[0m \u001b[0;34m=\u001b[0m \u001b[0mpd\u001b[0m\u001b[0;34m.\u001b[0m\u001b[0mread_csv\u001b[0m\u001b[0;34m(\u001b[0m\u001b[0;34m'data/warehouses.csv'\u001b[0m\u001b[0;34m,\u001b[0m \u001b[0mindex_col\u001b[0m\u001b[0;34m=\u001b[0m\u001b[0;34m'warehouseID'\u001b[0m\u001b[0;34m)\u001b[0m\u001b[0;34m\u001b[0m\u001b[0;34m\u001b[0m\u001b[0m\n\u001b[0m\u001b[1;32m     10\u001b[0m         \u001b[0mself\u001b[0m\u001b[0;34m.\u001b[0m\u001b[0mW\u001b[0m \u001b[0;34m=\u001b[0m \u001b[0mself\u001b[0m\u001b[0;34m.\u001b[0m\u001b[0mwarehouses\u001b[0m\u001b[0;34m.\u001b[0m\u001b[0mindex\u001b[0m\u001b[0;34m.\u001b[0m\u001b[0mvalues\u001b[0m\u001b[0;34m\u001b[0m\u001b[0;34m\u001b[0m\u001b[0m\n\u001b[1;32m     11\u001b[0m         \u001b[0mself\u001b[0m\u001b[0;34m.\u001b[0m\u001b[0mregions\u001b[0m \u001b[0;34m=\u001b[0m \u001b[0mpd\u001b[0m\u001b[0;34m.\u001b[0m\u001b[0mread_csv\u001b[0m\u001b[0;34m(\u001b[0m\u001b[0;34m'data/regions.csv'\u001b[0m\u001b[0;34m,\u001b[0m \u001b[0mindex_col\u001b[0m\u001b[0;34m=\u001b[0m\u001b[0;34m'regionID'\u001b[0m\u001b[0;34m)\u001b[0m\u001b[0;34m\u001b[0m\u001b[0;34m\u001b[0m\u001b[0m\n",
            "\u001b[0;32m/usr/local/lib/python3.6/dist-packages/pandas/io/parsers.py\u001b[0m in \u001b[0;36mread_csv\u001b[0;34m(filepath_or_buffer, sep, delimiter, header, names, index_col, usecols, squeeze, prefix, mangle_dupe_cols, dtype, engine, converters, true_values, false_values, skipinitialspace, skiprows, skipfooter, nrows, na_values, keep_default_na, na_filter, verbose, skip_blank_lines, parse_dates, infer_datetime_format, keep_date_col, date_parser, dayfirst, cache_dates, iterator, chunksize, compression, thousands, decimal, lineterminator, quotechar, quoting, doublequote, escapechar, comment, encoding, dialect, error_bad_lines, warn_bad_lines, delim_whitespace, low_memory, memory_map, float_precision)\u001b[0m\n\u001b[1;32m    686\u001b[0m     )\n\u001b[1;32m    687\u001b[0m \u001b[0;34m\u001b[0m\u001b[0m\n\u001b[0;32m--> 688\u001b[0;31m     \u001b[0;32mreturn\u001b[0m \u001b[0m_read\u001b[0m\u001b[0;34m(\u001b[0m\u001b[0mfilepath_or_buffer\u001b[0m\u001b[0;34m,\u001b[0m \u001b[0mkwds\u001b[0m\u001b[0;34m)\u001b[0m\u001b[0;34m\u001b[0m\u001b[0;34m\u001b[0m\u001b[0m\n\u001b[0m\u001b[1;32m    689\u001b[0m \u001b[0;34m\u001b[0m\u001b[0m\n\u001b[1;32m    690\u001b[0m \u001b[0;34m\u001b[0m\u001b[0m\n",
            "\u001b[0;32m/usr/local/lib/python3.6/dist-packages/pandas/io/parsers.py\u001b[0m in \u001b[0;36m_read\u001b[0;34m(filepath_or_buffer, kwds)\u001b[0m\n\u001b[1;32m    452\u001b[0m \u001b[0;34m\u001b[0m\u001b[0m\n\u001b[1;32m    453\u001b[0m     \u001b[0;31m# Create the parser.\u001b[0m\u001b[0;34m\u001b[0m\u001b[0;34m\u001b[0m\u001b[0;34m\u001b[0m\u001b[0m\n\u001b[0;32m--> 454\u001b[0;31m     \u001b[0mparser\u001b[0m \u001b[0;34m=\u001b[0m \u001b[0mTextFileReader\u001b[0m\u001b[0;34m(\u001b[0m\u001b[0mfp_or_buf\u001b[0m\u001b[0;34m,\u001b[0m \u001b[0;34m**\u001b[0m\u001b[0mkwds\u001b[0m\u001b[0;34m)\u001b[0m\u001b[0;34m\u001b[0m\u001b[0;34m\u001b[0m\u001b[0m\n\u001b[0m\u001b[1;32m    455\u001b[0m \u001b[0;34m\u001b[0m\u001b[0m\n\u001b[1;32m    456\u001b[0m     \u001b[0;32mif\u001b[0m \u001b[0mchunksize\u001b[0m \u001b[0;32mor\u001b[0m \u001b[0miterator\u001b[0m\u001b[0;34m:\u001b[0m\u001b[0;34m\u001b[0m\u001b[0;34m\u001b[0m\u001b[0m\n",
            "\u001b[0;32m/usr/local/lib/python3.6/dist-packages/pandas/io/parsers.py\u001b[0m in \u001b[0;36m__init__\u001b[0;34m(self, f, engine, **kwds)\u001b[0m\n\u001b[1;32m    946\u001b[0m             \u001b[0mself\u001b[0m\u001b[0;34m.\u001b[0m\u001b[0moptions\u001b[0m\u001b[0;34m[\u001b[0m\u001b[0;34m\"has_index_names\"\u001b[0m\u001b[0;34m]\u001b[0m \u001b[0;34m=\u001b[0m \u001b[0mkwds\u001b[0m\u001b[0;34m[\u001b[0m\u001b[0;34m\"has_index_names\"\u001b[0m\u001b[0;34m]\u001b[0m\u001b[0;34m\u001b[0m\u001b[0;34m\u001b[0m\u001b[0m\n\u001b[1;32m    947\u001b[0m \u001b[0;34m\u001b[0m\u001b[0m\n\u001b[0;32m--> 948\u001b[0;31m         \u001b[0mself\u001b[0m\u001b[0;34m.\u001b[0m\u001b[0m_make_engine\u001b[0m\u001b[0;34m(\u001b[0m\u001b[0mself\u001b[0m\u001b[0;34m.\u001b[0m\u001b[0mengine\u001b[0m\u001b[0;34m)\u001b[0m\u001b[0;34m\u001b[0m\u001b[0;34m\u001b[0m\u001b[0m\n\u001b[0m\u001b[1;32m    949\u001b[0m \u001b[0;34m\u001b[0m\u001b[0m\n\u001b[1;32m    950\u001b[0m     \u001b[0;32mdef\u001b[0m \u001b[0mclose\u001b[0m\u001b[0;34m(\u001b[0m\u001b[0mself\u001b[0m\u001b[0;34m)\u001b[0m\u001b[0;34m:\u001b[0m\u001b[0;34m\u001b[0m\u001b[0;34m\u001b[0m\u001b[0m\n",
            "\u001b[0;32m/usr/local/lib/python3.6/dist-packages/pandas/io/parsers.py\u001b[0m in \u001b[0;36m_make_engine\u001b[0;34m(self, engine)\u001b[0m\n\u001b[1;32m   1178\u001b[0m     \u001b[0;32mdef\u001b[0m \u001b[0m_make_engine\u001b[0m\u001b[0;34m(\u001b[0m\u001b[0mself\u001b[0m\u001b[0;34m,\u001b[0m \u001b[0mengine\u001b[0m\u001b[0;34m=\u001b[0m\u001b[0;34m\"c\"\u001b[0m\u001b[0;34m)\u001b[0m\u001b[0;34m:\u001b[0m\u001b[0;34m\u001b[0m\u001b[0;34m\u001b[0m\u001b[0m\n\u001b[1;32m   1179\u001b[0m         \u001b[0;32mif\u001b[0m \u001b[0mengine\u001b[0m \u001b[0;34m==\u001b[0m \u001b[0;34m\"c\"\u001b[0m\u001b[0;34m:\u001b[0m\u001b[0;34m\u001b[0m\u001b[0;34m\u001b[0m\u001b[0m\n\u001b[0;32m-> 1180\u001b[0;31m             \u001b[0mself\u001b[0m\u001b[0;34m.\u001b[0m\u001b[0m_engine\u001b[0m \u001b[0;34m=\u001b[0m \u001b[0mCParserWrapper\u001b[0m\u001b[0;34m(\u001b[0m\u001b[0mself\u001b[0m\u001b[0;34m.\u001b[0m\u001b[0mf\u001b[0m\u001b[0;34m,\u001b[0m \u001b[0;34m**\u001b[0m\u001b[0mself\u001b[0m\u001b[0;34m.\u001b[0m\u001b[0moptions\u001b[0m\u001b[0;34m)\u001b[0m\u001b[0;34m\u001b[0m\u001b[0;34m\u001b[0m\u001b[0m\n\u001b[0m\u001b[1;32m   1181\u001b[0m         \u001b[0;32melse\u001b[0m\u001b[0;34m:\u001b[0m\u001b[0;34m\u001b[0m\u001b[0;34m\u001b[0m\u001b[0m\n\u001b[1;32m   1182\u001b[0m             \u001b[0;32mif\u001b[0m \u001b[0mengine\u001b[0m \u001b[0;34m==\u001b[0m \u001b[0;34m\"python\"\u001b[0m\u001b[0;34m:\u001b[0m\u001b[0;34m\u001b[0m\u001b[0;34m\u001b[0m\u001b[0m\n",
            "\u001b[0;32m/usr/local/lib/python3.6/dist-packages/pandas/io/parsers.py\u001b[0m in \u001b[0;36m__init__\u001b[0;34m(self, src, **kwds)\u001b[0m\n\u001b[1;32m   2008\u001b[0m         \u001b[0mkwds\u001b[0m\u001b[0;34m[\u001b[0m\u001b[0;34m\"usecols\"\u001b[0m\u001b[0;34m]\u001b[0m \u001b[0;34m=\u001b[0m \u001b[0mself\u001b[0m\u001b[0;34m.\u001b[0m\u001b[0musecols\u001b[0m\u001b[0;34m\u001b[0m\u001b[0;34m\u001b[0m\u001b[0m\n\u001b[1;32m   2009\u001b[0m \u001b[0;34m\u001b[0m\u001b[0m\n\u001b[0;32m-> 2010\u001b[0;31m         \u001b[0mself\u001b[0m\u001b[0;34m.\u001b[0m\u001b[0m_reader\u001b[0m \u001b[0;34m=\u001b[0m \u001b[0mparsers\u001b[0m\u001b[0;34m.\u001b[0m\u001b[0mTextReader\u001b[0m\u001b[0;34m(\u001b[0m\u001b[0msrc\u001b[0m\u001b[0;34m,\u001b[0m \u001b[0;34m**\u001b[0m\u001b[0mkwds\u001b[0m\u001b[0;34m)\u001b[0m\u001b[0;34m\u001b[0m\u001b[0;34m\u001b[0m\u001b[0m\n\u001b[0m\u001b[1;32m   2011\u001b[0m         \u001b[0mself\u001b[0m\u001b[0;34m.\u001b[0m\u001b[0munnamed_cols\u001b[0m \u001b[0;34m=\u001b[0m \u001b[0mself\u001b[0m\u001b[0;34m.\u001b[0m\u001b[0m_reader\u001b[0m\u001b[0;34m.\u001b[0m\u001b[0munnamed_cols\u001b[0m\u001b[0;34m\u001b[0m\u001b[0;34m\u001b[0m\u001b[0m\n\u001b[1;32m   2012\u001b[0m \u001b[0;34m\u001b[0m\u001b[0m\n",
            "\u001b[0;32mpandas/_libs/parsers.pyx\u001b[0m in \u001b[0;36mpandas._libs.parsers.TextReader.__cinit__\u001b[0;34m()\u001b[0m\n",
            "\u001b[0;32mpandas/_libs/parsers.pyx\u001b[0m in \u001b[0;36mpandas._libs.parsers.TextReader._setup_parser_source\u001b[0;34m()\u001b[0m\n",
            "\u001b[0;31mFileNotFoundError\u001b[0m: [Errno 2] No such file or directory: 'data/warehouses.csv'"
          ]
        }
      ]
    },
    {
      "cell_type": "markdown",
      "metadata": {
        "id": "e4TfQT4HmR3s"
      },
      "source": [
        "We can visualize the results of our optimization on a map:"
      ]
    },
    {
      "cell_type": "code",
      "metadata": {
        "id": "JPAQwgO9mR3s"
      },
      "source": [
        "plot_df_regions = pd.DataFrame(wlp.region_results)\n",
        "plot_df_warehouses = pd.DataFrame(wlp.warehouse_results)\n",
        "plot_df_warehouses = plot_df_warehouses[plot_df_warehouses.open == 1]\n",
        "palette = sns.color_palette(None, len(wlp.W)).as_hex()\n",
        "palette = {wlp.W[i]: palette[i] for i in range(len(wlp.W))}\n",
        "\n",
        "m = folium.Map(location=[41, -4], zoom_start=6)\n",
        "plot_df_regions.apply(lambda row: folium.Circle(location=[row['lat'], row['lon']], \n",
        "                                                radius=4000, fill=False, popup=row['city'],\n",
        "                                                color=palette[row['warehouseID']]).add_to(m), axis=1)\n",
        "plot_df_warehouses.apply(lambda row: folium.Circle(location=[row['lat'], row['lon']], \n",
        "                                                   radius=10000, fill=True, popup=row['city'],\n",
        "                                                   color=palette[row['warehouseID']], \n",
        "                                                   fill_opacity=1).add_to(m), axis=1)\n",
        "m"
      ],
      "execution_count": null,
      "outputs": []
    },
    {
      "cell_type": "markdown",
      "metadata": {
        "id": "8Sq9Srz3mR3t"
      },
      "source": [
        "Additionally, we implemented new constraints in order to force the model to open a given number of warehouses or to open specific warehouese. E.g., we can solve a version of the model where the main facilities in Barcelona and Madrid are required to remain open."
      ]
    },
    {
      "cell_type": "code",
      "metadata": {
        "id": "Un_itH-UmR3t"
      },
      "source": [
        "# Run this cell to find warehouse IDs (Barcelona:8, Madrid: 28)\n",
        "#wlp.warehouses['city']"
      ],
      "execution_count": null,
      "outputs": []
    },
    {
      "cell_type": "code",
      "metadata": {
        "id": "ImLZUVtvmR3t"
      },
      "source": [
        "wlp = CashLogWLP()\n",
        "wlp.solve(n_warehouses=-1, force_open=[8, 28])\n",
        "print('Minimal costs are {:0,.0f} Euro'.format(wlp.totalCosts))\n",
        "print('Variable Costs: {:0,.0f}€\\nFixed costs: {:0,.0f}€'.format(wlp.variableCosts,\n",
        "                                                                 wlp.fixedCosts))"
      ],
      "execution_count": null,
      "outputs": []
    },
    {
      "cell_type": "code",
      "metadata": {
        "id": "J3TFpCn7mR3t"
      },
      "source": [
        "plot_df_regions = pd.DataFrame(wlp.region_results)\n",
        "plot_df_warehouses = pd.DataFrame(wlp.warehouse_results)\n",
        "plot_df_warehouses = plot_df_warehouses[plot_df_warehouses.open == 1]\n",
        "palette = sns.color_palette(None, len(wlp.W)).as_hex()\n",
        "palette = {wlp.W[i]: palette[i] for i in range(len(wlp.W))}\n",
        "\n",
        "m = folium.Map(location=[41, -4], zoom_start=6)\n",
        "plot_df_regions.apply(lambda row: folium.Circle(location=[row['lat'], row['lon']], \n",
        "                                                radius=4000, fill=False, popup=row['city'],\n",
        "                                                color=palette[row['warehouseID']]).add_to(m), axis=1)\n",
        "plot_df_warehouses.apply(lambda row: folium.Circle(location=[row['lat'], row['lon']], \n",
        "                                                   radius=10000, fill=True, popup=row['city'],\n",
        "                                                   color=palette[row['warehouseID']], \n",
        "                                                   fill_opacity=1).add_to(m), axis=1)\n",
        "m"
      ],
      "execution_count": null,
      "outputs": []
    },
    {
      "cell_type": "markdown",
      "metadata": {
        "id": "-qDoUFWVmR3t"
      },
      "source": [
        "We can use the new implementation to solve various versions of the problem and get a deeper understanding of the trade-off between fixed and variable costs:"
      ]
    },
    {
      "cell_type": "code",
      "metadata": {
        "id": "PNPRU6HUmR3t"
      },
      "source": [
        "cFixed = {}\n",
        "cVariable = {}\n",
        "cTotal = {}\n",
        "warehouse_results = {}\n",
        "region_results = {}\n",
        "\n",
        "wlp = CashLogWLP()\n",
        "\n",
        "for n in tqdm(range(12, len(wlp.W)+1, 1)):\n",
        "    wlp.solve(n_warehouses=n)\n",
        "    cFixed[n] = wlp.fixedCosts\n",
        "    cVariable[n] = wlp.variableCosts\n",
        "    cTotal[n] = wlp.totalCosts\n",
        "    warehouse_results[n] = wlp.warehouse_results\n",
        "    region_results[n] = wlp.region_results\n",
        "\n",
        "results_df = pd.DataFrame({'fixed':cFixed, 'transportation':cVariable, 'total':cTotal})\n",
        "min_costs_n = results_df.total.idxmin()\n",
        "results_df.reset_index(inplace=True)\n",
        "plot_df = pd.melt(results_df, id_vars='index', value_vars=['fixed', 'transportation', 'total'])\n",
        "\n",
        "\n",
        "\n",
        "def millions(x, pos):\n",
        "    return '%1.1fM' % (x * 1e-6)\n",
        "\n",
        "formatter = FuncFormatter(millions)\n",
        "plot_df.replace(['fixed', 'transportation', 'total'], ['Warehouse', 'Transportation', 'Total'], inplace=True)\n",
        "sns.set(font_scale=1.6)\n",
        "sns.set_style(style='white')\n",
        "fig, ax = plt.subplots(figsize=(12, 12))\n",
        "g = sns.lineplot(data=plot_df, x='index', y='value', hue='variable', palette={'Warehouse': 'blue', \n",
        "                                                                              'Transportation': 'green', \n",
        "                                                                              'Total': 'red'})\n",
        "g.axvline(min_costs_n, c='grey', linestyle='--')\n",
        "ax.set_ylim(0,200000000)\n",
        "ax.yaxis.set_major_formatter(formatter)\n",
        "ax.set_xlabel('Number of Warehouses')\n",
        "ax.set_ylabel(\"Costs\")\n",
        "ax.legend(bbox_to_anchor=[0.5,1.03], loc='center', ncol=3, frameon=False)"
      ],
      "execution_count": null,
      "outputs": []
    },
    {
      "cell_type": "markdown",
      "metadata": {
        "id": "v18wPc-CmR3t"
      },
      "source": [
        "Again, we can visualize the results on a map and compare the different region-warehouse allocations depending on the number of open warehouses:"
      ]
    },
    {
      "cell_type": "code",
      "metadata": {
        "id": "VmxeaYFImR3t"
      },
      "source": [
        "def map_results(n_warehouses):\n",
        "    plot_df_regions = pd.DataFrame(region_results[n_warehouses])\n",
        "    plot_df_warehouses = pd.DataFrame(warehouse_results[n_warehouses])\n",
        "    plot_df_warehouses = plot_df_warehouses[plot_df_warehouses.open == 1]\n",
        "    palette = sns.color_palette(None, len(wlp.W)).as_hex()\n",
        "    palette = {wlp.W[i]: palette[i] for i in range(len(wlp.W))}\n",
        "\n",
        "    m = folium.Map(location=[41, -4], zoom_start=6)\n",
        "    plot_df_regions.apply(lambda row: folium.Circle(location=[row['lat'], row['lon']], \n",
        "                                                    radius=4000, fill=False, popup=row['city'],\n",
        "                                                    color=palette[row['warehouseID']]).add_to(m), axis=1)\n",
        "    plot_df_warehouses.apply(lambda row: folium.Circle(location=[row['lat'], row['lon']], \n",
        "                                                       radius=10000, fill=True, popup=row['city'],\n",
        "                                                       color=palette[row['warehouseID']], \n",
        "                                                       fill_opacity=1).add_to(m), axis=1)\n",
        "    return m"
      ],
      "execution_count": null,
      "outputs": []
    },
    {
      "cell_type": "code",
      "metadata": {
        "id": "A6N8rOOWmR3t"
      },
      "source": [
        "map_results(n_warehouses=42)"
      ],
      "execution_count": null,
      "outputs": []
    },
    {
      "cell_type": "code",
      "metadata": {
        "id": "nOoUy4rCmR3t"
      },
      "source": [
        "map_results(n_warehouses=18)"
      ],
      "execution_count": null,
      "outputs": []
    }
  ]
}