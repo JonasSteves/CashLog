{
 "cells": [
  {
   "cell_type": "markdown",
   "metadata": {},
   "source": [
    "# CashLog Basic Analysis\n",
    "\n",
    "We will use this notebook to implement a basic version of CashLog's decision problem by performing the following steps:\n",
    "1. Define and load relevent model parameters\n",
    "2. Define and initialize the decision variables\n",
    "3. Define and implement the objective function\n",
    "3. Define and implement the relevant constraints\n",
    "4. Solve the problem and anlyse the results\n",
    "5. Perform sensitivity analysis"
   ]
  },
  {
   "cell_type": "markdown",
   "metadata": {},
   "source": [
    "### Load the required libraries"
   ]
  },
  {
   "cell_type": "code",
   "execution_count": 1,
   "metadata": {},
   "outputs": [
    {
     "name": "stdout",
     "output_type": "stream",
     "text": [
      "Using license file /Users/nis22jc/gurobi.lic\n",
      "Academic license - for non-commercial use only\n",
      "No parameters matching '_test' found\n"
     ]
    }
   ],
   "source": [
    "import pandas as pd\n",
    "import seaborn as sns\n",
    "import matplotlib.pyplot as plt\n",
    "from matplotlib.ticker import FuncFormatter\n",
    "import folium\n",
    "from tqdm import tqdm\n",
    "from pulp import *"
   ]
  },
  {
   "cell_type": "markdown",
   "metadata": {},
   "source": [
    "### The decision problem can be modeled in the sense of a MIP"
   ]
  },
  {
   "cell_type": "code",
   "execution_count": 2,
   "metadata": {},
   "outputs": [],
   "source": [
    "prob = LpProblem('CashLog_BasicAnalysis', LpMinimize)"
   ]
  },
  {
   "cell_type": "markdown",
   "metadata": {},
   "source": [
    "### Define and load model parameters\n",
    "\n",
    "$W:$ Set of warehouses<br>\n",
    "$R:$ Set of customer regions<br>\n",
    "$S:$ Set of links between warehouses and regions<br>\n",
    "\n",
    "$f_i:$ Fixed costs of warehouse $i$<br>\n",
    "$c_{ij}:$ Costs if region $j$ is served by warehouse $i$<br>"
   ]
  },
  {
   "cell_type": "code",
   "execution_count": 3,
   "metadata": {},
   "outputs": [],
   "source": [
    "warehouses = pd.read_csv('https://raw.githubusercontent.com/NikoStein/CashLog/master/data/warehouses.csv', index_col='warehouseID')\n",
    "W = warehouses.index.values\n",
    "\n",
    "regions = pd.read_csv('https://raw.githubusercontent.com/NikoStein/CashLog/master/data/regions.csv', index_col='regionID')\n",
    "R = regions.index.values\n",
    "\n",
    "shifts = pd.read_csv('https://raw.githubusercontent.com/NikoStein/CashLog/master/data/shifts.csv', index_col=['warehouseID', 'regionID'])\n",
    "S = shifts.index.values"
   ]
  },
  {
   "cell_type": "markdown",
   "metadata": {},
   "source": [
    "### Define and initialize the decision variables\n",
    "\n",
    "$x_{ij}:$ Binary variable indicating if region $j$ is served by warehouse $i$<br> \n",
    "$y_{i}:$ Binary variable indicating if warehouse $i$ is opened<br>"
   ]
  },
  {
   "cell_type": "code",
   "execution_count": null,
   "metadata": {},
   "outputs": [],
   "source": [
    "x = LpVariable.dicts(name='x', indexs=S, cat=LpBinary)\n",
    "y = LpVariable.dicts(name='y', indexs=W, cat=LpBinary)"
   ]
  },
  {
   "cell_type": "markdown",
   "metadata": {},
   "source": [
    "### Define and implement the objective function\n",
    "\n",
    "We want to minimize the total network costs (fixed costs + variable costs):\n",
    "\n",
    "$$\\min \\sum_{i\\in W}\\sum_{j\\in R} x_{ij} c_{ij} + \\sum_{i\\in W} f_i y_i$$"
   ]
  },
  {
   "cell_type": "code",
   "execution_count": null,
   "metadata": {},
   "outputs": [],
   "source": [
    "fixedCosts = lpSum([y[i] * warehouses.loc[i].fixedCosts for i in W])\n",
    "variableCosts = lpSum([x[i,j] * shifts.loc[i,j].shiftsRequired for i,j in S]) \n",
    "\n",
    "prob += fixedCosts + variableCosts"
   ]
  },
  {
   "cell_type": "markdown",
   "metadata": {},
   "source": [
    "### Define and implement the relevant constraints\n",
    "\n",
    "Regions can only be served by open warehouses:<br>\n",
    "$$x_{ij} <= y_{i} \\quad \\forall i\\in W, j\\in R$$\n",
    "\n",
    "Each region has to be served by exactly one warehouse:<br>\n",
    "$$\\sum_{i\\in W} x_{ij} = 1 \\quad \\forall j\\in R$$"
   ]
  },
  {
   "cell_type": "code",
   "execution_count": null,
   "metadata": {},
   "outputs": [],
   "source": [
    "for j in R:\n",
    "    prob += lpSum([x[i,j] for i in W]) == 1\n",
    "\n",
    "for i in W:\n",
    "    for j in R:\n",
    "        prob += x[i,j] <= y[i]"
   ]
  },
  {
   "cell_type": "markdown",
   "metadata": {},
   "source": [
    "### Solve the problem and analyze the results"
   ]
  },
  {
   "cell_type": "code",
   "execution_count": null,
   "metadata": {},
   "outputs": [],
   "source": [
    "status = prob.solve()"
   ]
  },
  {
   "cell_type": "code",
   "execution_count": null,
   "metadata": {},
   "outputs": [],
   "source": [
    "fixedCosts = sum([y[i].varValue * warehouses.loc[i].fixedCosts for i in W])\n",
    "variableCosts = sum([x[i,j].varValue * shifts.loc[i,j].shiftsRequired for i,j in S])\n",
    "print('Minimal costs are {:0,.0f} Euro'.format(prob.objective.value()))\n",
    "print('Variable Costs: {:0,.0f}€\\nFixed costs: {:0,.0f}€'.format(variableCosts,\n",
    "                                                                 fixedCosts))\n",
    "print('To minimize costs the following warehouses should be closed:')\n",
    "for i in W:\n",
    "    if y[i].varValue <= 0.1:\n",
    "        print('   -{}'.format(warehouses.loc[i].city))"
   ]
  },
  {
   "cell_type": "markdown",
   "metadata": {},
   "source": [
    "### Perform sensitivity analysis\n",
    "\n",
    "To perform sensitivity analysis and get a deeper understanding of the optimal decisions we solve multiple instances of the problem. In order to have a clean notebook we outsourced the model and import it for the analysis.\n",
    "\n",
    "We can instantiate an instance of the model via the ```CashLogWLP``` class and specify the costs per shift."
   ]
  },
  {
   "cell_type": "code",
   "execution_count": null,
   "metadata": {},
   "outputs": [],
   "source": [
    "from basicModel import CashLogWLP"
   ]
  },
  {
   "cell_type": "code",
   "execution_count": null,
   "metadata": {},
   "outputs": [],
   "source": [
    "wlp = CashLogWLP()\n",
    "wlp.solve(n_warehouses=-1)\n",
    "print('Minimal costs are {:0,.0f} Euro'.format(wlp.totalCosts))\n",
    "print('Variable Costs: {:0,.0f}€\\nFixed costs: {:0,.0f}€'.format(wlp.variableCosts,\n",
    "                                                                 wlp.fixedCosts))"
   ]
  },
  {
   "cell_type": "markdown",
   "metadata": {},
   "source": [
    "We can visualize the results of our optimization on a map:"
   ]
  },
  {
   "cell_type": "code",
   "execution_count": null,
   "metadata": {},
   "outputs": [],
   "source": [
    "plot_df_regions = pd.DataFrame(wlp.region_results)\n",
    "plot_df_warehouses = pd.DataFrame(wlp.warehouse_results)\n",
    "plot_df_warehouses = plot_df_warehouses[plot_df_warehouses.open == 1]\n",
    "palette = sns.color_palette(None, len(wlp.W)).as_hex()\n",
    "palette = {wlp.W[i]: palette[i] for i in range(len(wlp.W))}\n",
    "\n",
    "m = folium.Map(location=[41, -4], zoom_start=6)\n",
    "plot_df_regions.apply(lambda row: folium.Circle(location=[row['lat'], row['lon']], \n",
    "                                                radius=4000, fill=False, popup=row['city'],\n",
    "                                                color=palette[row['warehouseID']]).add_to(m), axis=1)\n",
    "plot_df_warehouses.apply(lambda row: folium.Circle(location=[row['lat'], row['lon']], \n",
    "                                                   radius=10000, fill=True, popup=row['city'],\n",
    "                                                   color=palette[row['warehouseID']], \n",
    "                                                   fill_opacity=1).add_to(m), axis=1)\n",
    "m"
   ]
  },
  {
   "cell_type": "markdown",
   "metadata": {},
   "source": [
    "Additionally, we implemented new constraints in order to force the model to open a given number of warehouses or to open specific warehouese. E.g., we can solve a version of the model where the main facilities in Barcelona and Madrid are required to remain open."
   ]
  },
  {
   "cell_type": "code",
   "execution_count": null,
   "metadata": {},
   "outputs": [],
   "source": [
    "# Run this cell to find warehouse IDs (Barcelona:8, Madrid: 28)\n",
    "#wlp.warehouses['city']"
   ]
  },
  {
   "cell_type": "code",
   "execution_count": null,
   "metadata": {},
   "outputs": [],
   "source": [
    "wlp = CashLogWLP()\n",
    "wlp.solve(n_warehouses=-1, force_open=[8, 28])\n",
    "print('Minimal costs are {:0,.0f} Euro'.format(wlp.totalCosts))\n",
    "print('Variable Costs: {:0,.0f}€\\nFixed costs: {:0,.0f}€'.format(wlp.variableCosts,\n",
    "                                                                 wlp.fixedCosts))"
   ]
  },
  {
   "cell_type": "code",
   "execution_count": null,
   "metadata": {},
   "outputs": [],
   "source": [
    "plot_df_regions = pd.DataFrame(wlp.region_results)\n",
    "plot_df_warehouses = pd.DataFrame(wlp.warehouse_results)\n",
    "plot_df_warehouses = plot_df_warehouses[plot_df_warehouses.open == 1]\n",
    "palette = sns.color_palette(None, len(wlp.W)).as_hex()\n",
    "palette = {wlp.W[i]: palette[i] for i in range(len(wlp.W))}\n",
    "\n",
    "m = folium.Map(location=[41, -4], zoom_start=6)\n",
    "plot_df_regions.apply(lambda row: folium.Circle(location=[row['lat'], row['lon']], \n",
    "                                                radius=4000, fill=False, popup=row['city'],\n",
    "                                                color=palette[row['warehouseID']]).add_to(m), axis=1)\n",
    "plot_df_warehouses.apply(lambda row: folium.Circle(location=[row['lat'], row['lon']], \n",
    "                                                   radius=10000, fill=True, popup=row['city'],\n",
    "                                                   color=palette[row['warehouseID']], \n",
    "                                                   fill_opacity=1).add_to(m), axis=1)\n",
    "m"
   ]
  },
  {
   "cell_type": "markdown",
   "metadata": {},
   "source": [
    "We can use the new implementation to solve various versions of the problem and get a deeper understanding of the trade-off between fixed and variable costs:"
   ]
  },
  {
   "cell_type": "code",
   "execution_count": null,
   "metadata": {},
   "outputs": [],
   "source": [
    "cFixed = {}\n",
    "cVariable = {}\n",
    "cTotal = {}\n",
    "warehouse_results = {}\n",
    "region_results = {}\n",
    "\n",
    "wlp = CashLogWLP()\n",
    "\n",
    "for n in tqdm(range(12, len(wlp.W)+1, 1)):\n",
    "    wlp.solve(n_warehouses=n)\n",
    "    cFixed[n] = wlp.fixedCosts\n",
    "    cVariable[n] = wlp.variableCosts\n",
    "    cTotal[n] = wlp.totalCosts\n",
    "    warehouse_results[n] = wlp.warehouse_results\n",
    "    region_results[n] = wlp.region_results\n",
    "\n",
    "results_df = pd.DataFrame({'fixed':cFixed, 'transportation':cVariable, 'total':cTotal})\n",
    "min_costs_n = results_df.total.idxmin()\n",
    "results_df.reset_index(inplace=True)\n",
    "plot_df = pd.melt(results_df, id_vars='index', value_vars=['fixed', 'transportation', 'total'])\n",
    "\n",
    "\n",
    "\n",
    "def millions(x, pos):\n",
    "    return '%1.1fM' % (x * 1e-6)\n",
    "\n",
    "formatter = FuncFormatter(millions)\n",
    "plot_df.replace(['fixed', 'transportation', 'total'], ['Warehouse', 'Transportation', 'Total'], inplace=True)\n",
    "sns.set(font_scale=1.6)\n",
    "sns.set_style(style='white')\n",
    "fig, ax = plt.subplots(figsize=(12, 12))\n",
    "g = sns.lineplot(data=plot_df, x='index', y='value', hue='variable', palette={'Warehouse': 'blue', \n",
    "                                                                              'Transportation': 'green', \n",
    "                                                                              'Total': 'red'})\n",
    "g.axvline(min_costs_n, c='grey', linestyle='--')\n",
    "ax.set_ylim(0,200000000)\n",
    "ax.yaxis.set_major_formatter(formatter)\n",
    "ax.set_xlabel('Number of Warehouses')\n",
    "ax.set_ylabel(\"Costs\")\n",
    "ax.legend(bbox_to_anchor=[0.5,1.03], loc='center', ncol=3, frameon=False)"
   ]
  },
  {
   "cell_type": "markdown",
   "metadata": {},
   "source": [
    "Again, we can visualize the results on a map and compare the different region-warehouse allocations depending on the number of open warehouses:"
   ]
  },
  {
   "cell_type": "code",
   "execution_count": null,
   "metadata": {},
   "outputs": [],
   "source": [
    "def map_results(n_warehouses):\n",
    "    plot_df_regions = pd.DataFrame(region_results[n_warehouses])\n",
    "    plot_df_warehouses = pd.DataFrame(warehouse_results[n_warehouses])\n",
    "    plot_df_warehouses = plot_df_warehouses[plot_df_warehouses.open == 1]\n",
    "    palette = sns.color_palette(None, len(wlp.W)).as_hex()\n",
    "    palette = {wlp.W[i]: palette[i] for i in range(len(wlp.W))}\n",
    "\n",
    "    m = folium.Map(location=[41, -4], zoom_start=6)\n",
    "    plot_df_regions.apply(lambda row: folium.Circle(location=[row['lat'], row['lon']], \n",
    "                                                    radius=4000, fill=False, popup=row['city'],\n",
    "                                                    color=palette[row['warehouseID']]).add_to(m), axis=1)\n",
    "    plot_df_warehouses.apply(lambda row: folium.Circle(location=[row['lat'], row['lon']], \n",
    "                                                       radius=10000, fill=True, popup=row['city'],\n",
    "                                                       color=palette[row['warehouseID']], \n",
    "                                                       fill_opacity=1).add_to(m), axis=1)\n",
    "    return m"
   ]
  },
  {
   "cell_type": "code",
   "execution_count": null,
   "metadata": {},
   "outputs": [],
   "source": [
    "map_results(n_warehouses=42)"
   ]
  },
  {
   "cell_type": "code",
   "execution_count": null,
   "metadata": {},
   "outputs": [],
   "source": [
    "map_results(n_warehouses=18)"
   ]
  }
 ],
 "metadata": {
  "kernelspec": {
   "display_name": "Python 3",
   "language": "python",
   "name": "python3"
  },
  "language_info": {
   "codemirror_mode": {
    "name": "ipython",
    "version": 3
   },
   "file_extension": ".py",
   "mimetype": "text/x-python",
   "name": "python",
   "nbconvert_exporter": "python",
   "pygments_lexer": "ipython3",
   "version": "3.7.9"
  }
 },
 "nbformat": 4,
 "nbformat_minor": 4
}
